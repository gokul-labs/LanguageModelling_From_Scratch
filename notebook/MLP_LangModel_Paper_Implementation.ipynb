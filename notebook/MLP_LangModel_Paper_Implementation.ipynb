{
 "cells": [
  {
   "cell_type": "code",
   "execution_count": 167,
   "id": "7a61d227",
   "metadata": {},
   "outputs": [],
   "source": [
    "import math\n",
    "import string\n",
    "import torch\n",
    "import numpy as np\n",
    "import torch.nn.functional as F\n",
    "import matplotlib.pyplot as plt\n"
   ]
  },
  {
   "cell_type": "code",
   "execution_count": 168,
   "id": "b9e35f16",
   "metadata": {},
   "outputs": [],
   "source": [
    "names =[]\n",
    "with open(\"../code/names.txt\") as file:\n",
    "    names = file.read().split(\"\\n\")\n",
    "stoi = {c:i for i, c in enumerate(string.ascii_lowercase)}\n",
    "itos = {c:i for i, c in stoi.items()}\n",
    "\n",
    "stoi[\".\"] = 26\n",
    "itos[26] = \".\"\n",
    "\n",
    "BLOCK_SIZE = 3\n",
    "inputs = []\n",
    "labels = []\n",
    "\n",
    "\n",
    "for name in names:\n",
    "    context = [26] * BLOCK_SIZE\n",
    "    for c in name + \".\":\n",
    "        label = stoi[c]\n",
    "        inputs.append(context)\n",
    "        labels.append(label)\n",
    "#         print(\"\".join(itos[i] for i in context), '-->', itos[label])\n",
    "        context = context[1:] + [label]"
   ]
  },
  {
   "cell_type": "code",
   "execution_count": 169,
   "id": "2f56a78f",
   "metadata": {},
   "outputs": [],
   "source": [
    "inputs = torch.tensor(inputs)\n",
    "labels = torch.tensor(labels)"
   ]
  },
  {
   "cell_type": "code",
   "execution_count": 170,
   "id": "50e5cd7e",
   "metadata": {},
   "outputs": [
    {
     "name": "stdout",
     "output_type": "stream",
     "text": [
      "torch.Size([27, 5])\n",
      "torch.Size([228147, 3, 5])\n",
      "torch.Size([15, 100])\n",
      "torch.Size([100])\n"
     ]
    }
   ],
   "source": [
    "# each character is a 5D vector, randomly initialize char embedding\n",
    "CHAR_EMBEDDINGS = torch.randn((27,5)) \n",
    "WORD_EMBEDDINGS = CHAR_EMBEDDINGS[inputs]\n",
    "\n",
    "# rand initialize weights and biases for Layer 1 \n",
    "W1 = torch.randn((15, 100))\n",
    "b1 = torch.randn(100)\n",
    "\n",
    "print(CHAR_EMBEDDINGS.shape)\n",
    "print(WORD_EMBEDDINGS.shape)\n",
    "print(W1.shape)\n",
    "print(b1.shape)"
   ]
  },
  {
   "cell_type": "code",
   "execution_count": 171,
   "id": "e2ad0ae4",
   "metadata": {},
   "outputs": [],
   "source": [
    "# # Pass it through layer 1 with 100 neurons\n",
    "# h = torch.tanh(WORD_EMBEDDINGS.view(-1,15) @ W1 + b1)\n",
    "\n",
    "# # rand initialize weights and biases for Layer 2\n",
    "# W2 = torch.randn((100, 27))\n",
    "# b2 = torch.randn(27)\n",
    "\n",
    "# # Pass through Layer 2 (final layer)\n",
    "\n",
    "# logits = h @ W2 + b2\n",
    "# logits = logits.exp() # Logits -> log counts -> Softmax to mimic probability distribution as output\n",
    "# logits = logits / logits.sum(dim=1, keepdim=True)\n",
    "# loss = -logits[torch.arange(len(inputs)), labels].log().mean()"
   ]
  },
  {
   "cell_type": "code",
   "execution_count": 172,
   "id": "04661e4f",
   "metadata": {},
   "outputs": [],
   "source": [
    "# # Cross Entropy\n",
    "# logits = h @ W2 + b2\n",
    "# loss = F.cross_entropy(logits, labels)"
   ]
  },
  {
   "cell_type": "code",
   "execution_count": 173,
   "id": "03c6b29c",
   "metadata": {},
   "outputs": [],
   "source": [
    "parameters = [CHAR_EMBEDDINGS, W1, W2, b1, b2]"
   ]
  },
  {
   "cell_type": "code",
   "execution_count": 174,
   "id": "124f163b",
   "metadata": {},
   "outputs": [],
   "source": [
    "# EPOCHS = 25\n",
    "# LEARNING_RATE = 1\n",
    "\n",
    "# for epoch in range(EPOCHS):\n",
    "    \n",
    "#     # Require grad\n",
    "#     for p in parameters:\n",
    "#         p.requires_grad = True\n",
    "    \n",
    "#     # Forward pass\n",
    "#     WORD_EMBEDDINGS = CHAR_EMBEDDINGS[inputs]\n",
    "#     h = torch.tanh(WORD_EMBEDDINGS.view(-1,15) @ W1 + b1)\n",
    "#     logits = h @ W2 + b2\n",
    "    \n",
    "#     # Loss\n",
    "#     loss = F.cross_entropy(logits, labels)\n",
    "    \n",
    "#     for p in parameters:\n",
    "#         p.grad = None\n",
    "        \n",
    "#     # Backward pass\n",
    "#     loss.backward()\n",
    "    \n",
    "#     for p in parameters:\n",
    "#         p.data += -LEARNING_RATE * p.grad\n",
    "#     print(epoch, loss)"
   ]
  },
  {
   "cell_type": "code",
   "execution_count": 175,
   "id": "2985b492",
   "metadata": {},
   "outputs": [],
   "source": [
    "# # We can use mini-batches too\n",
    "\n",
    "# EPOCHS = 25\n",
    "# LEARNING_RATE = 0.1\n",
    "# BATCH_SIZE = 10\n",
    "\n",
    "# for epoch in range(EPOCHS):\n",
    "    \n",
    "#     # Require grad\n",
    "#     for p in parameters:\n",
    "#         p.requires_grad = True\n",
    "        \n",
    "#     batch_idx = torch.randint(0, inputs.shape[0], (BATCH_SIZE,))\n",
    "    \n",
    "#     # Forward pass\n",
    "#     WORD_EMBEDDINGS = CHAR_EMBEDDINGS[inputs[batch_idx]]\n",
    "#     h = torch.tanh(WORD_EMBEDDINGS.view(-1,15) @ W1 + b1)\n",
    "#     logits = h @ W2 + b2\n",
    "    \n",
    "#     # Loss\n",
    "#     loss = F.cross_entropy(logits, labels[batch_idx])\n",
    "    \n",
    "#     for p in parameters:\n",
    "#         p.grad = None\n",
    "        \n",
    "#     # Backward pass\n",
    "#     loss.backward()\n",
    "    \n",
    "#     for p in parameters:\n",
    "#         p.data += -LEARNING_RATE * p.grad\n",
    "#     print(epoch, loss)"
   ]
  },
  {
   "cell_type": "code",
   "execution_count": 177,
   "id": "7e6b4cc5",
   "metadata": {},
   "outputs": [],
   "source": [
    "# Use Dynamic Learning Rates\n",
    "\n",
    "lre = torch.linspace(-3, 0, 30000)\n",
    "lrs = [10**lr for lr in lre]\n",
    "lr_exps = []\n",
    "lr_used = []\n",
    "\n",
    "losses = []\n",
    "\n",
    "# We can use mini-batches too\n",
    "\n",
    "EPOCHS = 30000\n",
    "BATCH_SIZE = 10\n",
    "\n",
    "for epoch in range(EPOCHS):\n",
    "    \n",
    "    # Require grad\n",
    "    for p in parameters:\n",
    "        p.requires_grad = True\n",
    "        \n",
    "    batch_idx = torch.randint(0, inputs.shape[0], (BATCH_SIZE,))\n",
    "    \n",
    "    # Forward pass\n",
    "    WORD_EMBEDDINGS = CHAR_EMBEDDINGS[inputs[batch_idx]]\n",
    "    h = torch.tanh(WORD_EMBEDDINGS.view(-1,15) @ W1 + b1)\n",
    "    logits = h @ W2 + b2\n",
    "    \n",
    "    # Loss\n",
    "    loss = F.cross_entropy(logits, labels[batch_idx])\n",
    "    \n",
    "    for p in parameters:\n",
    "        p.grad = None\n",
    "    \n",
    "    # Backward pass\n",
    "    loss.backward()\n",
    "    \n",
    "    # Update\n",
    "    lr = lrs[epoch]\n",
    "    for p in parameters:\n",
    "        p.data += -lr * p.grad\n",
    "    \n",
    "    lr_exps.append(lre[epoch])\n",
    "    lr_used.append(lr)\n",
    "    losses.append(loss.item())"
   ]
  },
  {
   "cell_type": "code",
   "execution_count": 178,
   "id": "8e11900f",
   "metadata": {},
   "outputs": [
    {
     "data": {
      "text/plain": [
       "tensor(2.6018, grad_fn=<NllLossBackward0>)"
      ]
     },
     "execution_count": 178,
     "metadata": {},
     "output_type": "execute_result"
    }
   ],
   "source": [
    "loss"
   ]
  },
  {
   "cell_type": "code",
   "execution_count": null,
   "id": "7ce60f5f",
   "metadata": {},
   "outputs": [],
   "source": [
    "# plt.plot(lr_idx, losses)"
   ]
  },
  {
   "cell_type": "code",
   "execution_count": null,
   "id": "7094af8a",
   "metadata": {},
   "outputs": [],
   "source": [
    "# plt.plot(lr_used, losses)"
   ]
  },
  {
   "cell_type": "code",
   "execution_count": 179,
   "id": "2bec8ece",
   "metadata": {},
   "outputs": [
    {
     "data": {
      "text/plain": [
       "['nihn.',\n",
       " 'lin.',\n",
       " 'zun.',\n",
       " 'el.',\n",
       " 'raere.',\n",
       " 'nan.',\n",
       " 'dasnoa.',\n",
       " 'ambryn.',\n",
       " 'kinn.',\n",
       " 'rua.']"
      ]
     },
     "execution_count": 179,
     "metadata": {},
     "output_type": "execute_result"
    }
   ],
   "source": [
    "# Infer from model\n",
    "\n",
    "g = torch.Generator().manual_seed(124578798232)\n",
    "idx = 0\n",
    "BLOCK_SIZE = 3\n",
    "NO_OF_WORDS = 10\n",
    "words = []\n",
    "\n",
    "for i in range(NO_OF_WORDS):\n",
    "    word = \"\"\n",
    "    context = [26] * BLOCK_SIZE\n",
    "    \n",
    "    while True:\n",
    "        WORD_EMBEDDINGS = CHAR_EMBEDDINGS[torch.tensor([context])]\n",
    "        h = torch.tanh(WORD_EMBEDDINGS.view(1,-1) @ W1 + b1)\n",
    "        logits = h @ W2 + b2\n",
    "        logits = F.softmax(logits, dim=1)\n",
    "        pred_idx = torch.multinomial(logits, num_samples=1, replacement=True, generator=g).item()\n",
    "        context = context[1:] + [pred_idx]\n",
    "        word += itos[pred_idx]\n",
    "        \n",
    "        if pred_idx == 26:\n",
    "            words.append(word)\n",
    "            break\n",
    "words"
   ]
  },
  {
   "cell_type": "code",
   "execution_count": null,
   "id": "fa18dde1",
   "metadata": {},
   "outputs": [],
   "source": []
  }
 ],
 "metadata": {
  "kernelspec": {
   "display_name": "Python 3",
   "language": "python",
   "name": "python3"
  },
  "language_info": {
   "codemirror_mode": {
    "name": "ipython",
    "version": 3
   },
   "file_extension": ".py",
   "mimetype": "text/x-python",
   "name": "python",
   "nbconvert_exporter": "python",
   "pygments_lexer": "ipython3",
   "version": "3.8.8"
  }
 },
 "nbformat": 4,
 "nbformat_minor": 5
}
