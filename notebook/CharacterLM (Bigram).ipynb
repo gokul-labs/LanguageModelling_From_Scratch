{
 "cells": [
  {
   "cell_type": "code",
   "execution_count": 79,
   "id": "8b6dbc02",
   "metadata": {},
   "outputs": [],
   "source": [
    "import matplotlib.pyplot as plt\n",
    "import numpy as np\n",
    "import string\n",
    "import torch\n",
    "\n",
    "content = \"\"\n",
    "with open(\"../code/names.txt\") as file:\n",
    "    content = file.read()\n",
    "names = content.split(\"\\n\")\n",
    "\n",
    "\n",
    "stoi = {c:i for i, c in enumerate(string.ascii_lowercase)}\n",
    "itos = {c:i for i, c in stoi.items()}\n",
    "\n",
    "stoi[\".\"] = 26\n",
    "itos[26] = \".\"\n",
    "\n",
    "char_frequency = torch.ones([27,27])"
   ]
  },
  {
   "cell_type": "code",
   "execution_count": 80,
   "id": "0b3b745e",
   "metadata": {},
   "outputs": [
    {
     "data": {
      "text/plain": [
       "<matplotlib.image.AxesImage at 0x7fac6927a460>"
      ]
     },
     "execution_count": 80,
     "metadata": {},
     "output_type": "execute_result"
    },
    {
     "data": {
      "image/png": "[encoded data removed]",
      "text/plain": [
       "<Figure size 720x1080 with 1 Axes>"
      ]
     },
     "metadata": {
      "needs_background": "light"
     },
     "output_type": "display_data"
    }
   ],
   "source": [
    "inputs = []\n",
    "outputs = []\n",
    "\n",
    "NGRAM_CONFIG = 3\n",
    "\n",
    "for name in names:\n",
    "    name = [\".\"] + list(name) + [\".\"]\n",
    "    for c1, c2 in zip(name, name[1:]):\n",
    "        char_frequency[stoi[c1]][stoi[c2]] += 1\n",
    "\n",
    "plt.figure(figsize=(10,15))\n",
    "plt.imshow(char_frequency)"
   ]
  },
  {
   "cell_type": "code",
   "execution_count": 81,
   "id": "490965cf",
   "metadata": {},
   "outputs": [],
   "source": [
    "char_frequency = char_frequency / char_frequency.sum(dim=1, keepdim=True)"
   ]
  },
  {
   "cell_type": "code",
   "execution_count": 82,
   "id": "a99c188e",
   "metadata": {},
   "outputs": [
    {
     "data": {
      "text/plain": [
       "['rjai.',\n",
       " 'jan.',\n",
       " 'zzipelyraira.',\n",
       " 'leo.',\n",
       " 'caynya.',\n",
       " 'ama.',\n",
       " 'sluliomrowa.',\n",
       " 'tisigab.',\n",
       " 'n.',\n",
       " 'lieligh.']"
      ]
     },
     "execution_count": 82,
     "metadata": {},
     "output_type": "execute_result"
    }
   ],
   "source": [
    "g = torch.Generator().manual_seed(124578798232)\n",
    "idx = 0\n",
    "NO_OF_WORDS = 10\n",
    "words = []\n",
    "\n",
    "for i in range(NO_OF_WORDS):\n",
    "    word = \"\"\n",
    "    while True:\n",
    "        pred_idx = torch.multinomial(char_frequency[idx], num_samples=1, replacement=True, generator=g).item()\n",
    "        idx = pred_idx\n",
    "        word += itos[pred_idx]\n",
    "        if pred_idx == 26:\n",
    "            words.append(word)\n",
    "            break\n",
    "words"
   ]
  },
  {
   "cell_type": "code",
   "execution_count": 117,
   "id": "300608b9",
   "metadata": {},
   "outputs": [
    {
     "data": {
      "text/plain": [
       "tensor(2.4544)"
      ]
     },
     "execution_count": 117,
     "metadata": {},
     "output_type": "execute_result"
    }
   ],
   "source": [
    "# Evaluation : NLL\n",
    "import math\n",
    "\n",
    "log_likelihood = 0\n",
    "n = 0 \n",
    "for name in names:\n",
    "    name = [\".\"] + list(name) + [\".\"]\n",
    "    for c1, c2 in zip(name, name[1:]):\n",
    "        log_likelihood += torch.log(char_frequency[stoi[c1]][stoi[c2]])\n",
    "        n += 1\n",
    "neg_log_likelihood = -log_likelihood\n",
    "neg_log_likelihood = neg_log_likelihood / n\n",
    "neg_log_likelihood"
   ]
  },
  {
   "cell_type": "code",
   "execution_count": null,
   "id": "f90b3bea",
   "metadata": {},
   "outputs": [],
   "source": []
  },
  {
   "cell_type": "code",
   "execution_count": 100,
   "id": "42f6be75",
   "metadata": {},
   "outputs": [],
   "source": [
    "# Neural Network implementation\n",
    "\n",
    "inputs = []\n",
    "outputs = []\n",
    "\n",
    "for name in names:\n",
    "    name = [\".\"] + list(name) + [\".\"]\n",
    "    for c1, c2 in zip(name, name[1:]):\n",
    "        inputs.append(stoi[c1])\n",
    "        outputs.append(stoi[c2])\n",
    "\n",
    "inputs = torch.tensor(inputs)\n",
    "outputs = torch.tensor(outputs)  "
   ]
  },
  {
   "cell_type": "code",
   "execution_count": 108,
   "id": "47e02ca2",
   "metadata": {},
   "outputs": [],
   "source": [
    "import torch.nn.functional as F\n",
    "inputs_encoded = F.one_hot(inputs, num_classes=27).float()\n",
    "W = torch.randn((27,27), requires_grad=True)"
   ]
  },
  {
   "cell_type": "code",
   "execution_count": 109,
   "id": "d31e9761",
   "metadata": {},
   "outputs": [],
   "source": [
    "weights = inputs_encoded @ W\n",
    "logits = weights.exp() # Logits -> log counts -> Softmax to mimic probability distribution as output\n",
    "logits = logits / logits.sum(dim=1, keepdim=True)"
   ]
  },
  {
   "cell_type": "code",
   "execution_count": 118,
   "id": "0c4d91c2",
   "metadata": {},
   "outputs": [
    {
     "name": "stdout",
     "output_type": "stream",
     "text": [
      "tensor(5.2393, grad_fn=<AddBackward0>)\n",
      "tensor(4.4162, grad_fn=<AddBackward0>)\n",
      "tensor(3.8783, grad_fn=<AddBackward0>)\n",
      "tensor(3.5270, grad_fn=<AddBackward0>)\n",
      "tensor(3.2992, grad_fn=<AddBackward0>)\n",
      "tensor(3.1524, grad_fn=<AddBackward0>)\n",
      "tensor(3.0584, grad_fn=<AddBackward0>)\n",
      "tensor(2.9984, grad_fn=<AddBackward0>)\n",
      "tensor(2.9602, grad_fn=<AddBackward0>)\n",
      "tensor(2.9358, grad_fn=<AddBackward0>)\n",
      "tensor(2.9202, grad_fn=<AddBackward0>)\n",
      "tensor(2.9102, grad_fn=<AddBackward0>)\n",
      "tensor(2.9038, grad_fn=<AddBackward0>)\n",
      "tensor(2.8997, grad_fn=<AddBackward0>)\n",
      "tensor(2.8970, grad_fn=<AddBackward0>)\n",
      "tensor(2.8953, grad_fn=<AddBackward0>)\n",
      "tensor(2.8942, grad_fn=<AddBackward0>)\n",
      "tensor(2.8934, grad_fn=<AddBackward0>)\n",
      "tensor(2.8929, grad_fn=<AddBackward0>)\n",
      "tensor(2.8926, grad_fn=<AddBackward0>)\n",
      "tensor(2.8924, grad_fn=<AddBackward0>)\n",
      "tensor(2.8923, grad_fn=<AddBackward0>)\n",
      "tensor(2.8922, grad_fn=<AddBackward0>)\n",
      "tensor(2.8921, grad_fn=<AddBackward0>)\n",
      "tensor(2.8921, grad_fn=<AddBackward0>)\n"
     ]
    }
   ],
   "source": [
    "# Setup NN learning loop\n",
    "# Gradient Descent\n",
    "\n",
    "EPOCHS = 25\n",
    "\n",
    "for epoch in range(EPOCHS):\n",
    "    weights = inputs_encoded @ W\n",
    "    logits = weights.exp() \n",
    "    logits = logits / logits.sum(dim=1, keepdim=True)\n",
    "    \n",
    "    loss = -logits[torch.arange(len(inputs_encoded)), outputs].log().mean()\n",
    "    \n",
    "    # Regularization loss\n",
    "    loss += (W**2).mean()\n",
    "    print(loss)\n",
    "    \n",
    "    W.grad = None\n",
    "    \n",
    "    loss.backward()\n",
    "    \n",
    "    W.data += -60 * W.grad"
   ]
  },
  {
   "cell_type": "code",
   "execution_count": null,
   "id": "dd40296c",
   "metadata": {},
   "outputs": [],
   "source": []
  }
 ],
 "metadata": {
  "kernelspec": {
   "display_name": "Python 3",
   "language": "python",
   "name": "python3"
  },
  "language_info": {
   "codemirror_mode": {
    "name": "ipython",
    "version": 3
   },
   "file_extension": ".py",
   "mimetype": "text/x-python",
   "name": "python",
   "nbconvert_exporter": "python",
   "pygments_lexer": "ipython3",
   "version": "3.8.8"
  }
 },
 "nbformat": 4,
 "nbformat_minor": 5
}
