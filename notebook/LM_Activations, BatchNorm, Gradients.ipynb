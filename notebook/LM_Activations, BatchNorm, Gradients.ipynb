{
 "cells": [
  {
   "cell_type": "code",
   "execution_count": 6,
   "id": "2afc579c",
   "metadata": {},
   "outputs": [],
   "source": [
    "import torch\n",
    "import string\n",
    "import torch.nn.functional as F\n",
    "import matplotlib.pyplot as plt # for making figures\n",
    "%matplotlib inline"
   ]
  },
  {
   "cell_type": "code",
   "execution_count": 7,
   "id": "292999dc",
   "metadata": {},
   "outputs": [],
   "source": [
    "names =[]\n",
    "with open(\"../code/names.txt\") as file:\n",
    "    names = file.read().split(\"\\n\")\n",
    "    \n",
    "stoi = {c:i for i, c in enumerate(string.ascii_lowercase)}\n",
    "itos = {c:i for i, c in stoi.items()}\n",
    "\n",
    "stoi[\".\"] = 26\n",
    "itos[26] = \".\"\n",
    "\n",
    "BLOCK_SIZE = 3\n",
    "inputs = []\n",
    "labels = []\n",
    "\n",
    "\n",
    "for name in names:\n",
    "    context = [26] * BLOCK_SIZE\n",
    "    for c in name + \".\":\n",
    "        label = stoi[c]\n",
    "        inputs.append(context)\n",
    "        labels.append(label)\n",
    "#         print(\"\".join(itos[i] for i in context), '-->', itos[label])\n",
    "        context = context[1:] + [label]"
   ]
  },
  {
   "cell_type": "code",
   "execution_count": 8,
   "id": "4c1f0d6a",
   "metadata": {},
   "outputs": [],
   "source": [
    "inputs = torch.tensor(inputs)\n",
    "labels = torch.tensor(labels)"
   ]
  },
  {
   "cell_type": "code",
   "execution_count": 12,
   "id": "33f3b8a0",
   "metadata": {},
   "outputs": [],
   "source": [
    "EMBEDDING_DIMENSION = 10\n",
    "VOCABULARY_SIZE = 27 # 26 alphabets and one special start end char -> \".\"\n",
    "HIDDEN_LAYER_NEURONS = 100\n",
    "\n",
    "# each character is a nD vector, randomly initialize char embedding\n",
    "CHAR_EMBEDDINGS = torch.randn((VOCABULARY_SIZE, EMBEDDING_DIMENSION)) \n",
    "WORD_EMBEDDINGS = CHAR_EMBEDDINGS[inputs]\n",
    "\n",
    "# rand initialize weights and biases for Layer 1 \n",
    "W1 = torch.randn((EMBEDDING_DIMENSION * BLOCK_SIZE, HIDDEN_LAYER_NEURONS))\n",
    "b1 = torch.randn(HIDDEN_LAYER_NEURONS)\n",
    "W2 = torch.randn((HIDDEN_LAYER_NEURONS, VOCABULARY_SIZE))\n",
    "b2 = torch.randn(VOCABULARY_SIZE)\n",
    "\n",
    "parameters = [CHAR_EMBEDDINGS, W1, W2, b1, b2]"
   ]
  },
  {
   "cell_type": "code",
   "execution_count": 17,
   "id": "2acceea5",
   "metadata": {},
   "outputs": [
    {
     "name": "stdout",
     "output_type": "stream",
     "text": [
      "2.1628432273864746\n"
     ]
    }
   ],
   "source": [
    "# Use Dynamic Learning Rates\n",
    "\n",
    "losses = []\n",
    "\n",
    "# We can use mini-batches too\n",
    "\n",
    "EPOCHS = 200000\n",
    "BATCH_SIZE = 10\n",
    "\n",
    "for epoch in range(EPOCHS):\n",
    "    \n",
    "    # Require grad\n",
    "    for p in parameters:\n",
    "        p.requires_grad = True\n",
    "        \n",
    "    batch_idx = torch.randint(0, inputs.shape[0], (BATCH_SIZE,))\n",
    "    \n",
    "    # Forward pass\n",
    "    WORD_EMBEDDINGS = CHAR_EMBEDDINGS[inputs[batch_idx]]\n",
    "    h = torch.tanh(WORD_EMBEDDINGS.view(-1,EMBEDDING_DIMENSION * BLOCK_SIZE) @ W1 + b1)\n",
    "    logits = h @ W2 + b2\n",
    "    \n",
    "    # Loss\n",
    "    loss = F.cross_entropy(logits, labels[batch_idx])\n",
    "    \n",
    "    for p in parameters:\n",
    "        p.grad = None\n",
    "    \n",
    "    # Backward pass\n",
    "    loss.backward()\n",
    "    \n",
    "    # Update\n",
    "    lr = 0.1 if epoch < 100000 else 0.01 # step learning rate decay\n",
    "    \n",
    "    for p in parameters:\n",
    "        p.data += -lr * p.grad\n",
    "\n",
    "print(loss.item())"
   ]
  },
  {
   "cell_type": "code",
   "execution_count": 19,
   "id": "def481a1",
   "metadata": {},
   "outputs": [
    {
     "data": {
      "text/plain": [
       "['lece.',\n",
       " 'jamo.',\n",
       " 'vine.',\n",
       " 'siah.',\n",
       " 'bribn.',\n",
       " 'cassia.',\n",
       " 'aley.',\n",
       " 'killia.',\n",
       " 'mia.',\n",
       " 'thindad.',\n",
       " 'myleen.',\n",
       " 'ellawon.',\n",
       " 'darlyn.',\n",
       " 'ayai.',\n",
       " 'salhomieh.',\n",
       " 'coarin.',\n",
       " 'ediana.',\n",
       " 'jivrieton.',\n",
       " 'cain.',\n",
       " 'tria.']"
      ]
     },
     "execution_count": 19,
     "metadata": {},
     "output_type": "execute_result"
    }
   ],
   "source": [
    "# Infer from model\n",
    "\n",
    "g = torch.Generator().manual_seed(124578798232)\n",
    "idx = 0\n",
    "BLOCK_SIZE = 3\n",
    "NO_OF_WORDS = 20\n",
    "words = []\n",
    "\n",
    "for i in range(NO_OF_WORDS):\n",
    "    word = \"\"\n",
    "    context = [26] * BLOCK_SIZE\n",
    "    \n",
    "    while True:\n",
    "        WORD_EMBEDDINGS = CHAR_EMBEDDINGS[torch.tensor([context])]\n",
    "        h = torch.tanh(WORD_EMBEDDINGS.view(1,-1) @ W1 + b1)\n",
    "        logits = h @ W2 + b2\n",
    "        logits = F.softmax(logits, dim=1)\n",
    "        pred_idx = torch.multinomial(logits, num_samples=1, replacement=True, generator=g).item()\n",
    "        context = context[1:] + [pred_idx]\n",
    "        word += itos[pred_idx]\n",
    "        \n",
    "        if pred_idx == 26:\n",
    "            words.append(word)\n",
    "            break\n",
    "words"
   ]
  },
  {
   "cell_type": "code",
   "execution_count": 23,
   "id": "c768625e",
   "metadata": {},
   "outputs": [
    {
     "data": {
      "text/plain": [
       "tensor(3.2958)"
      ]
     },
     "execution_count": 23,
     "metadata": {},
     "output_type": "execute_result"
    }
   ],
   "source": [
    "# Expected loss\n",
    "-torch.log(torch.tensor(1/VOCABULARY_SIZE))"
   ]
  },
  {
   "cell_type": "code",
   "execution_count": null,
   "id": "ce1213fb",
   "metadata": {},
   "outputs": [],
   "source": [
    "W1 = torch.randn((EMBEDDING_DIMENSION * BLOCK_SIZE, HIDDEN_LAYER_NEURONS)) * 0.1\n",
    "b1 = torch.randn(HIDDEN_LAYER_NEURONS) * 0\n",
    "W2 = torch.randn((HIDDEN_LAYER_NEURONS, VOCABULARY_SIZE)) * 0.1\n",
    "b2 = torch.randn(VOCABULARY_SIZE) * 0\n",
    "\n",
    "parameters = [CHAR_EMBEDDINGS, W1, W2, b1, b2]"
   ]
  },
  {
   "cell_type": "code",
   "execution_count": 27,
   "id": "9f0cabff",
   "metadata": {},
   "outputs": [
    {
     "data": {
      "image/png": "[encoded data removed]",
      "text/plain": [
       "<Figure size 432x288 with 1 Axes>"
      ]
     },
     "metadata": {
      "needs_background": "light"
     },
     "output_type": "display_data"
    },
    {
     "data": {
      "image/png": "[encoded data removed]",
      "text/plain": [
       "<Figure size 432x288 with 1 Axes>"
      ]
     },
     "metadata": {
      "needs_background": "light"
     },
     "output_type": "display_data"
    }
   ],
   "source": [
    "# Many h values go to extremes, -1 +1 due to tanh\n",
    "h = torch.tanh(WORD_EMBEDDINGS.view(-1,EMBEDDING_DIMENSION * BLOCK_SIZE) @ W1 + b1)\n",
    "plt.hist(h.tolist(), 50);\n",
    "plt.figure()\n",
    "plt.hist((WORD_EMBEDDINGS.view(-1,EMBEDDING_DIMENSION * BLOCK_SIZE) @ W1 + b1).tolist(), 50);"
   ]
  },
  {
   "cell_type": "code",
   "execution_count": 41,
   "id": "fd781d59",
   "metadata": {},
   "outputs": [],
   "source": [
    "# Adjust weights by gain, manually\n",
    "\n",
    "W1 = torch.randn((EMBEDDING_DIMENSION * BLOCK_SIZE, HIDDEN_LAYER_NEURONS)) * ((5/3) / (EMBEDDING_DIMENSION * BLOCK_SIZE)**0.5)\n",
    "b1 = torch.randn(HIDDEN_LAYER_NEURONS) * 0.01\n",
    "W2 = torch.randn((HIDDEN_LAYER_NEURONS, VOCABULARY_SIZE)) * ((5/3) / HIDDEN_LAYER_NEURONS**0.5)\n",
    "b2 = torch.randn(VOCABULARY_SIZE) * 0.01\n",
    "\n",
    "parameters = [CHAR_EMBEDDINGS, W1, W2, b1, b2]\n",
    "# Many h values go to extremes, -1 +1 due to tanh\n"
   ]
  },
  {
   "cell_type": "code",
   "execution_count": 44,
   "id": "65b2e3b4",
   "metadata": {},
   "outputs": [],
   "source": [
    "# Do BatchNorm, instead\n",
    "pre_activation = WORD_EMBEDDINGS.view(-1,EMBEDDING_DIMENSION * BLOCK_SIZE) @ W1 + b1\n",
    "\n",
    "# make it gaussian, subtract mean and divide by STD\n",
    "pre_activation = pre_activation - pre_activation.mean(0, keepdim=True) / pre_activation.std(0, keepdim=True)\n",
    "h = torch.tanh(pre_activation)\n",
    "\n"
   ]
  },
  {
   "cell_type": "code",
   "execution_count": 46,
   "id": "05baf79d",
   "metadata": {},
   "outputs": [],
   "source": [
    "# Batchnorm with gains and shift offsets\n",
    "bngains = torch.ones((1, HIDDEN_LAYER_NEURONS))\n",
    "bnoffsets = torch.zeros((1, HIDDEN_LAYER_NEURONS))\n",
    "pre_activation = WORD_EMBEDDINGS.view(-1,EMBEDDING_DIMENSION * BLOCK_SIZE) @ W1 + b1\n",
    "\n",
    "pre_activation = bngains * \\ \n",
    "    (pre_activation - pre_activation.mean(0, keepdim=True) / pre_activation.std(0, keepdim=True)) \\\n",
    "    + bnoffsets\n",
    "h = torch.tanh(pre_activation)\n",
    "\n",
    "parameters = [CHAR_EMBEDDINGS, W1, W2, b1, b2, bngains, bnoffsets]"
   ]
  },
  {
   "cell_type": "code",
   "execution_count": null,
   "id": "65f946e1",
   "metadata": {},
   "outputs": [],
   "source": [
    "# Batch Mean, Std over entire training set\n",
    "\n",
    "pre_activation = WORD_EMBEDDINGS.view(-1,EMBEDDING_DIMENSION * BLOCK_SIZE) @ W1 + b1\n",
    "\n",
    "with torch.no_grad():\n",
    "    bnmean_all = pre_activation.mean(0, keepdim=True) \n",
    "    bnstd_all = pre_activation.std(0, keepdim=True)\n",
    "\n",
    "pre_activation = bngains * (pre_activation - bnmean_all / bnstd_all) + bnoffsets\n",
    "h = torch.tanh(pre_activation)\n",
    "\n",
    "# Use them in mini-batches until next layer"
   ]
  },
  {
   "cell_type": "code",
   "execution_count": 50,
   "id": "89592324",
   "metadata": {},
   "outputs": [],
   "source": [
    "# Running bnmean_all and bnstd_all\n",
    "bnmean_running = torch.zeros((1, HIDDEN_LAYER_NEURONS))\n",
    "bnstd_running = torch.ones((1, HIDDEN_LAYER_NEURONS))\n",
    "\n",
    "\n",
    "# TRAINING LOOP\n",
    "bnmeani = pre_activation.mean(0, keepdim=True)\n",
    "bnstdi = pre_activation.std(0, keepdim=True)\n",
    "   \n",
    "pre_activation = bngains * (pre_activation - bnmean_running) / bnstd_running + bnoffsets\n",
    "\n",
    "with torch.no_grad():\n",
    "    bnmean_running = 0.999 * bnmean_running + 0.001 * bnmeani\n",
    "    bnstd_running = 0.999 * bnstd_running + 0.001 * bnstdi\n",
    "# TRAINING LOOP"
   ]
  },
  {
   "cell_type": "code",
   "execution_count": 55,
   "id": "a0c81124",
   "metadata": {},
   "outputs": [
    {
     "name": "stdout",
     "output_type": "stream",
     "text": [
      "2.134913444519043\n"
     ]
    }
   ],
   "source": [
    "# We can ignore bias if we are BatchNorming after the h calculation.\n",
    "\n",
    "\n",
    "# W1 = torch.randn((EMBEDDING_DIMENSION * BLOCK_SIZE, HIDDEN_LAYER_NEURONS)) * ((5/3) / (EMBEDDING_DIMENSION * BLOCK_SIZE)**0.5)\n",
    "# # b1 = torch.randn(HIDDEN_LAYER_NEURONS) * 0.01\n",
    "# W2 = torch.randn((HIDDEN_LAYER_NEURONS, VOCABULARY_SIZE)) * ((5/3) / HIDDEN_LAYER_NEURONS**0.5)\n",
    "# b2 = torch.randn(VOCABULARY_SIZE) * 0.01\n",
    "\n",
    "# bngains = torch.ones((1, HIDDEN_LAYER_NEURONS))\n",
    "# bnoffsets = torch.zeros((1, HIDDEN_LAYER_NEURONS))\n",
    "\n",
    "# bnmean_running = torch.zeros((1, HIDDEN_LAYER_NEURONS))\n",
    "# bnstd_running = torch.ones((1, HIDDEN_LAYER_NEURONS))\n",
    "\n",
    "# parameters = [CHAR_EMBEDDINGS, W1, W2, b2, bngains, bnoffsets]\n",
    "\n",
    "# losses = []\n",
    "\n",
    "STEP_SIZE = 200000\n",
    "BATCH_SIZE = 32\n",
    "\n",
    "# Step size vs Epoch\n",
    "\n",
    "for step in range(STEP_SIZE):\n",
    "\n",
    "    for p in parameters:\n",
    "        p.requires_grad = True\n",
    "        \n",
    "    batch_idx = torch.randint(0, inputs.shape[0], (BATCH_SIZE,))\n",
    "\n",
    "    WORD_EMBEDDINGS = CHAR_EMBEDDINGS[inputs[batch_idx]]\n",
    "    pre_activation = WORD_EMBEDDINGS.view(-1,EMBEDDING_DIMENSION * BLOCK_SIZE) @ W1\n",
    "    \n",
    "    bnmeani = pre_activation.mean(0, keepdim=True)\n",
    "    bnstdi = pre_activation.std(0, keepdim=True)\n",
    "    \n",
    "    pre_activation = bngains * (pre_activation - bnmean_running) / bnstd_running + bnoffsets\n",
    "\n",
    "    with torch.no_grad():\n",
    "        bnmean_running = 0.999 * bnmean_running + 0.001 * bnmeani\n",
    "        bnstd_running = 0.999 * bnstd_running + 0.001 * bnstdi\n",
    "    \n",
    "    h = torch.tanh(pre_activation) #+ b1)\n",
    "    logits = h @ W2 + b2\n",
    "    loss = F.cross_entropy(logits, labels[batch_idx])\n",
    "    \n",
    "    for p in parameters:\n",
    "        p.grad = None\n",
    "        \n",
    "    loss.backward()\n",
    "    \n",
    "    lr = 0.1 if step < 100000 else 0.01 # step learning rate decay\n",
    "    \n",
    "    for p in parameters:\n",
    "        p.data += -lr * p.grad\n",
    "\n",
    "print(loss.item())\n"
   ]
  },
  {
   "cell_type": "code",
   "execution_count": null,
   "id": "6d7699a1",
   "metadata": {},
   "outputs": [],
   "source": []
  }
 ],
 "metadata": {
  "kernelspec": {
   "display_name": "Python 3",
   "language": "python",
   "name": "python3"
  },
  "language_info": {
   "codemirror_mode": {
    "name": "ipython",
    "version": 3
   },
   "file_extension": ".py",
   "mimetype": "text/x-python",
   "name": "python",
   "nbconvert_exporter": "python",
   "pygments_lexer": "ipython3",
   "version": "3.8.8"
  }
 },
 "nbformat": 4,
 "nbformat_minor": 5
}
